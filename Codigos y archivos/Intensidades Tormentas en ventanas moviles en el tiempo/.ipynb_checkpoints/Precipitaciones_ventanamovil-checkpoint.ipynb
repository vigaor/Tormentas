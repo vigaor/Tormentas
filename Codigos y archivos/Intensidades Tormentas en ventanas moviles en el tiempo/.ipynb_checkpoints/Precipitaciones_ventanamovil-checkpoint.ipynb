{
 "cells": [
  {
   "cell_type": "code",
   "execution_count": 2,
   "metadata": {},
   "outputs": [],
   "source": [
    "import pandas as pd\n",
    "import datetime"
   ]
  },
  {
   "cell_type": "code",
   "execution_count": 3,
   "metadata": {},
   "outputs": [
    {
     "data": {
      "text/plain": [
       "(367, 2)"
      ]
     },
     "execution_count": 3,
     "metadata": {},
     "output_type": "execute_result"
    }
   ],
   "source": [
    "#lee los datos con pandas para la sheet_name de excel indicado\n",
    "df_nucleo=pd.read_excel('Datos 16-17 de septiembre 2022.xlsx',sheet_name='Lenga')\n",
    "df_nucleo.shape\n"
   ]
  },
  {
   "cell_type": "code",
   "execution_count": 4,
   "metadata": {},
   "outputs": [],
   "source": [
    "#genera el dataframe sobre la base de las fechas\n",
    "df_nucleo['fe']=pd.to_datetime(df_nucleo['Fecha y Hora'])\n",
    "\n",
    "#entrega un nuevo formato por minuto a los datos y escribe una nueva columna\n",
    "df_nucleo['fecha_hora_min']=pd.to_datetime(df_nucleo.fe.dt.strftime('%m/%d/%y %H:%M'))\n",
    "\n",
    "#agrupa los datos por minuto\n",
    "df_g=df_nucleo.groupby(by='fecha_hora_min').sum()\n",
    "\n",
    "#entrega el tamaño del archivo (filas, columnas)\n"
   ]
  },
  {
   "cell_type": "code",
   "execution_count": 5,
   "metadata": {},
   "outputs": [
    {
     "data": {
      "text/plain": [
       "(2871, 1)"
      ]
     },
     "execution_count": 5,
     "metadata": {},
     "output_type": "execute_result"
    }
   ],
   "source": [
    "#genera filas para cada minuto del rango de datos\n",
    "r = pd.date_range(start=df_g.index.min(),end=df_g.index.max(),freq='min')\n",
    "\n",
    "#asigna una pp nula a las fechas (minutos) ingresados y reordena incluyendo las fechas con datos\n",
    "df_g=df_g.reindex(r).fillna(0.0)\n",
    "\n",
    "#entrega el nuevo tamaño del archivo (filas, columnas)\n",
    "df_g.shape\n",
    "#df_g.to_excel('tormento.xlsx')"
   ]
  },
  {
   "cell_type": "code",
   "execution_count": 6,
   "metadata": {},
   "outputs": [],
   "source": [
    "#muestra los datos ordenados en formato que se usarña para procesarlos\n",
    "#df_g.head()"
   ]
  },
  {
   "cell_type": "code",
   "execution_count": 7,
   "metadata": {},
   "outputs": [],
   "source": [
    "#define el rango de filas en las que se agregan los datos\n",
    "#en este caso '%d/%m/%y %H:%M' cada fila corresponde a un minuto\n",
    "#puesto se han rellenado los tiempos (minutos) faltantes\n",
    "#Para UCSC los registros estan cada 5 minutos por defecto\n",
    "# el resto de las estaciones debo pasarlas a minutos por la incertesa que no se sabe cada cuando rato se registraron datos\n",
    "filas_min0= 60\n",
    "filas_min1= 30\n",
    "filas_min2= 15\n",
    "filas_min3= 10\n",
    "filas_min4= 5\n",
    "\n",
    "#suma el numero de filas definidas (minutos) en una ventana movil con paso de 1 minuto (1 fila)\n",
    "df_x1=df_g.rolling(filas_min0).sum()\n",
    "df_x2=df_g.rolling(filas_min1).sum()\n",
    "df_x3=df_g.rolling(filas_min2).sum()\n",
    "df_x4=df_g.rolling(filas_min3).sum()\n",
    "df_x5=df_g.rolling(filas_min4).sum()\n",
    "                   \n",
    "\n",
    "\n",
    "#Identifica la fecha en la que la suma anterior es máxima. \n",
    "#corresponde a la máxima precipitación acumulada en el periodo descrito según una ventanan movil\n",
    "\n",
    "#df_x1.to_excel('Tormentas2.xlsx')\n",
    "#print(df_x1.idxmax())\n",
    "#print(df_x2.idxmax())\n",
    "#print(df_x3.idxmax())\n",
    "#print(df_x4.idxmax())\n",
    "#print(df_x5.idxmax())             "
   ]
  },
  {
   "cell_type": "code",
   "execution_count": 8,
   "metadata": {},
   "outputs": [
    {
     "name": "stdout",
     "output_type": "stream",
     "text": [
      "PP    1.8\n",
      "dtype: float64\n",
      "PP    1.0\n",
      "dtype: float64\n",
      "PP    0.6\n",
      "dtype: float64\n",
      "PP    0.4\n",
      "dtype: float64\n",
      "PP    0.4\n",
      "dtype: float64\n"
     ]
    }
   ],
   "source": [
    "#Identifica la magnitud de la pp acumulada máxima para el periodo considerado\n",
    "print(df_x1.max())\n",
    "print(df_x2.max())\n",
    "print(df_x3.max())\n",
    "print(df_x4.max())\n",
    "print(df_x5.max())\n"
   ]
  },
  {
   "cell_type": "code",
   "execution_count": 9,
   "metadata": {},
   "outputs": [
    {
     "name": "stdout",
     "output_type": "stream",
     "text": [
      "PP    0.03\n",
      "dtype: float64 mm/min\n",
      "PP    0.033333\n",
      "dtype: float64 mm/min\n",
      "PP    0.04\n",
      "dtype: float64 mm/min\n",
      "PP    0.04\n",
      "dtype: float64 mm/min\n",
      "PP    0.08\n",
      "dtype: float64 mm/min\n"
     ]
    }
   ],
   "source": [
    "#MODIFICAR DIVISOR\n",
    "\n",
    "intensidad1 = df_x1.max()/60\n",
    "intensidad2 = df_x2.max()/30\n",
    "intensidad3 = df_x3.max()/15\n",
    "intensidad4 = df_x4.max()/10\n",
    "intensidad5 = df_x5.max()/5\n",
    "\n",
    "print(intensidad1, 'mm/min')\n",
    "print(intensidad2,'mm/min')\n",
    "print(intensidad3,'mm/min')\n",
    "print(intensidad4, 'mm/min')\n",
    "print(intensidad5, 'mm/min')\n"
   ]
  },
  {
   "cell_type": "code",
   "execution_count": null,
   "metadata": {},
   "outputs": [],
   "source": []
  },
  {
   "cell_type": "code",
   "execution_count": null,
   "metadata": {},
   "outputs": [],
   "source": []
  }
 ],
 "metadata": {
  "kernelspec": {
   "display_name": "Python 3",
   "language": "python",
   "name": "python3"
  },
  "language_info": {
   "codemirror_mode": {
    "name": "ipython",
    "version": 3
   },
   "file_extension": ".py",
   "mimetype": "text/x-python",
   "name": "python",
   "nbconvert_exporter": "python",
   "pygments_lexer": "ipython3",
   "version": "3.8.5"
  }
 },
 "nbformat": 4,
 "nbformat_minor": 4
}
