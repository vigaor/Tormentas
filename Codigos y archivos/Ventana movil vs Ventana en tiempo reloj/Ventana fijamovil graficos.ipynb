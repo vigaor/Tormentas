{
 "cells": [
  {
   "cell_type": "code",
   "execution_count": 51,
   "metadata": {},
   "outputs": [],
   "source": [
    "import pandas as pd\n",
    "import datetime\n",
    "import numpy as np\n",
    "import matplotlib.pyplot as plt"
   ]
  },
  {
   "cell_type": "markdown",
   "metadata": {},
   "source": [
    "### Intensidad para ventana en tiempo de reloj"
   ]
  },
  {
   "cell_type": "code",
   "execution_count": 52,
   "metadata": {},
   "outputs": [],
   "source": [
    "#lee los datos con pandas para la sheet_name de excel indicado\n",
    "df_nucleo=pd.read_excel('Datos 6 de agosto 2022.xlsx',sheet_name='UCSC')"
   ]
  },
  {
   "cell_type": "code",
   "execution_count": 53,
   "metadata": {},
   "outputs": [],
   "source": [
    "#genera el dataframe sobre la base de las fechas\n",
    "df_nucleo['fe']=pd.to_datetime(df_nucleo['Fecha y Hora'])\n",
    "\n",
    "#entrega un nuevo formato por minuto a los datos y escribe una nueva columna\n",
    "df_nucleo['fecha_hora_min']=pd.to_datetime(df_nucleo.fe.dt.strftime('%m/%d/%Y %H:%M'))\n",
    "\n",
    "#agrupa los datos por minuto\n",
    "df_g=df_nucleo.groupby(by='fecha_hora_min').sum()"
   ]
  },
  {
   "cell_type": "code",
   "execution_count": 54,
   "metadata": {},
   "outputs": [],
   "source": [
    "# Agrupar los datos en intervalos de 15, 30 y 60 minutos y suma los valores de cada grupo\n",
    "\n",
    "df_5min = df_g.resample('5T').sum()\n",
    "df_10min = df_g.resample('10T').sum()\n",
    "df_15min = df_g.resample('15T').sum()\n",
    "df_30min = df_g.resample('30T' ).sum()\n",
    "df_60min = df_g.resample('60T').sum()"
   ]
  },
  {
   "cell_type": "code",
   "execution_count": 55,
   "metadata": {},
   "outputs": [],
   "source": [
    "#Intesidad maxima\n",
    "\n",
    "df_60min = df_g.resample('60T').sum()/60\n",
    "df_30min = df_g.resample('30T').sum()/30\n",
    "df_15min = df_g.resample('15T').sum()/15\n",
    "df_10min = df_g.resample('10T' ).sum()/10\n",
    "df_5min = df_g.resample('5T').sum()/5\n",
    "\n",
    "\n",
    "#print(np.round(df_60min.max(),3))\n",
    "#print(np.round(df_30min.max(),3))\n",
    "#print(np.round(df_15min.max(),3))\n",
    "#print(np.round(df_10min.max(),3))\n",
    "#print(np.round(df_5min.max(),3))\n"
   ]
  },
  {
   "cell_type": "markdown",
   "metadata": {},
   "source": [
    "### Intensidad para ventana móvil"
   ]
  },
  {
   "cell_type": "code",
   "execution_count": 56,
   "metadata": {},
   "outputs": [],
   "source": [
    "#lee los datos con pandas para la sheet_name de excel indicado\n",
    "df_nucleo0=pd.read_excel('Datos 6 de agosto 2022.xlsx',sheet_name='UCSC')"
   ]
  },
  {
   "cell_type": "code",
   "execution_count": 57,
   "metadata": {},
   "outputs": [],
   "source": [
    "#genera el dataframe sobre la base de las fechas\n",
    "df_nucleo0['fe']=pd.to_datetime(df_nucleo0['Fecha y Hora'])\n",
    "\n",
    "#entrega un nuevo formato por minuto a los datos y escribe una nueva columna\n",
    "df_nucleo0['fecha_hora_min']=pd.to_datetime(df_nucleo0.fe.dt.strftime('%m/%d/%Y %H:%M'))\n",
    "\n",
    "#agrupa los datos por minuto\n",
    "df_g0=df_nucleo0.groupby(by='fecha_hora_min').sum()"
   ]
  },
  {
   "cell_type": "code",
   "execution_count": 58,
   "metadata": {},
   "outputs": [],
   "source": [
    "#genera filas para cada minuto del rango de datos\n",
    "r = pd.date_range(start=df_g0.index.min(),end=df_g0.index.max(),freq='min')\n",
    "\n",
    "#asigna una pp nula a las fechas (minutos) ingresados y reordena incluyendo las fechas con datos\n",
    "df_g0=df_g0.reindex(r).fillna(0.0)\n",
    "\n",
    "#entrega el nuevo tamaño del archivo (filas, columnas)\n",
    "#df_g.to_excel('tormento.xlsx')"
   ]
  },
  {
   "cell_type": "code",
   "execution_count": null,
   "metadata": {},
   "outputs": [],
   "source": []
  },
  {
   "cell_type": "code",
   "execution_count": 59,
   "metadata": {},
   "outputs": [],
   "source": [
    "#define el rango de filas en las que se agregan los datos\n",
    "#en este caso '%d/%m/%y %H:%M' cada fila corresponde a un minuto\n",
    "#puesto se han rellenado los tiempos (minutos) faltantes\n",
    "#Para UCSC los registros estan cada 5 minutos por defecto\n",
    "# el resto de las estaciones debo pasarlas a minutos por la incertesa que no se sabe cada cuando rato se registraron datos\n",
    "filas_min0= 60\n",
    "filas_min1= 30\n",
    "filas_min2= 15\n",
    "filas_min3= 10\n",
    "filas_min4= 5\n",
    "\n",
    "#suma el numero de filas definidas (minutos) en una ventana movil con paso de 1 minuto (1 fila)\n",
    "df_x1=df_g0.rolling(filas_min0).sum()\n",
    "df_x2=df_g0.rolling(filas_min1).sum()\n",
    "df_x3=df_g0.rolling(filas_min2).sum()\n",
    "df_x4=df_g0.rolling(filas_min3).sum()\n",
    "df_x5=df_g0.rolling(filas_min4).sum()"
   ]
  },
  {
   "cell_type": "code",
   "execution_count": 60,
   "metadata": {},
   "outputs": [],
   "source": [
    "#Intesidad\n",
    "\n",
    "intensidad1 = df_x1.max()/60\n",
    "intensidad2 = df_x2.max()/30\n",
    "intensidad3 = df_x3.max()/15\n",
    "intensidad4 = df_x4.max()/10\n",
    "intensidad5 = df_x5.max()/5\n",
    "\n",
    "#print(intensidad1, 'mm/min')\n",
    "#print(intensidad2,'mm/min')\n",
    "#print(intensidad3,'mm/min')\n",
    "#print(intensidad4, 'mm/min')\n",
    "#print(intensidad5, 'mm/min')\n"
   ]
  },
  {
   "cell_type": "code",
   "execution_count": 61,
   "metadata": {},
   "outputs": [],
   "source": [
    "\n",
    "\n",
    "minutos = np.array([60,30,15,10,5])\n",
    "ventanafija = np.array([df_60min.max(),df_30min.max(),df_15min.max(),df_10min.max(),df_5min.max()])\n",
    "ventanamovil = np.array([intensidad1,intensidad2,intensidad3,intensidad4,intensidad5])\n",
    "Min = minutos.flatten(order='A')\n",
    "VenFi = ventanafija.flatten(order='A')\n",
    "VenMo = ventanamovil.flatten(order='A')\n",
    "\n",
    "venfija = np.round(VenFi,3)\n",
    "venmovil = np.round(VenMo,3)"
   ]
  },
  {
   "cell_type": "code",
   "execution_count": 62,
   "metadata": {},
   "outputs": [
    {
     "data": {
      "text/html": [
       "<div>\n",
       "<style scoped>\n",
       "    .dataframe tbody tr th:only-of-type {\n",
       "        vertical-align: middle;\n",
       "    }\n",
       "\n",
       "    .dataframe tbody tr th {\n",
       "        vertical-align: top;\n",
       "    }\n",
       "\n",
       "    .dataframe thead th {\n",
       "        text-align: right;\n",
       "    }\n",
       "</style>\n",
       "<table border=\"1\" class=\"dataframe\">\n",
       "  <thead>\n",
       "    <tr style=\"text-align: right;\">\n",
       "      <th></th>\n",
       "      <th>Minutos</th>\n",
       "      <th>Ventana Fija</th>\n",
       "      <th>Ventana Movil</th>\n",
       "    </tr>\n",
       "  </thead>\n",
       "  <tbody>\n",
       "    <tr>\n",
       "      <th>0</th>\n",
       "      <td>60</td>\n",
       "      <td>0.080</td>\n",
       "      <td>0.090</td>\n",
       "    </tr>\n",
       "    <tr>\n",
       "      <th>1</th>\n",
       "      <td>30</td>\n",
       "      <td>0.107</td>\n",
       "      <td>0.107</td>\n",
       "    </tr>\n",
       "    <tr>\n",
       "      <th>2</th>\n",
       "      <td>15</td>\n",
       "      <td>0.120</td>\n",
       "      <td>0.120</td>\n",
       "    </tr>\n",
       "    <tr>\n",
       "      <th>3</th>\n",
       "      <td>10</td>\n",
       "      <td>0.120</td>\n",
       "      <td>0.140</td>\n",
       "    </tr>\n",
       "    <tr>\n",
       "      <th>4</th>\n",
       "      <td>5</td>\n",
       "      <td>0.200</td>\n",
       "      <td>0.200</td>\n",
       "    </tr>\n",
       "  </tbody>\n",
       "</table>\n",
       "</div>"
      ],
      "text/plain": [
       "   Minutos  Ventana Fija  Ventana Movil\n",
       "0       60         0.080          0.090\n",
       "1       30         0.107          0.107\n",
       "2       15         0.120          0.120\n",
       "3       10         0.120          0.140\n",
       "4        5         0.200          0.200"
      ]
     },
     "execution_count": 62,
     "metadata": {},
     "output_type": "execute_result"
    }
   ],
   "source": [
    "Mat = pd.DataFrame({'Minutos': Min,'Ventana Fija': venfija,'Ventana Movil': venmovil})\n",
    "Mat"
   ]
  },
  {
   "cell_type": "code",
   "execution_count": 63,
   "metadata": {},
   "outputs": [],
   "source": [
    "\n",
    "#Venta Movil y fija\n",
    "\n",
    "Data =  np.array(Mat.iloc[:,[1,2]].values.tolist())\n",
    "Fija = Data[:,0] \n",
    "Movil = Data[:,1]\n",
    "\n"
   ]
  },
  {
   "cell_type": "code",
   "execution_count": 64,
   "metadata": {},
   "outputs": [
    {
     "data": {
      "image/png": "[encoded data removed]",
      "text/plain": [
       "<Figure size 1080x504 with 1 Axes>"
      ]
     },
     "metadata": {
      "needs_background": "light"
     },
     "output_type": "display_data"
    }
   ],
   "source": [
    "#Eje x debes graficar la fecha en la que ocurren los maximos\n",
    "\n",
    "# Crear el gráfico\n",
    "x = np.arange(len(venmovil))\n",
    "width = 0.35\n",
    "\n",
    "fig, ax = plt.subplots(figsize=(15, 7))\n",
    "rects1 = ax.bar(x - width/2, Fija, width, label='Ventana en tiempo reloj UCSC',color= 'magenta')\n",
    "rects2 = ax.bar(x + width/2, Movil, width, label='Ventana móvil UCSC', color= 'purple')\n",
    "\n",
    "ax.set_ylabel('Intensidad (mm/min)')\n",
    "ax.set_title('Ventanas Móviles y Ventanas en Tiempo Reloj Tormenta 6 de Agosto 2022')\n",
    "ax.set_xticks(x)\n",
    "ax.set_xticklabels(x)\n",
    "ax.legend()\n",
    "#ax.legend(fontsize='9')\n",
    "\n",
    "def autolabel(rects):\n",
    "    for rect in rects:\n",
    "        height = rect.get_height()\n",
    "        ax.annotate('{}'.format(height),\n",
    "                    xy=(rect.get_x() + rect.get_width() / 2, height),\n",
    "                    xytext=(0, 3),  # Desplazamiento de etiqueta\n",
    "                    textcoords=\"offset points\",\n",
    "                    ha='center', va='bottom')\n",
    "\n",
    "autolabel(rects1)\n",
    "autolabel(rects2)\n",
    "# Mostrar el gráfico\n",
    "plt.xticks([r+width/100 for r in range(len(venmovil))],\n",
    "        ['60 minutos', '30 minutos', '15 minutos', '10 minutos', '5 minutos'])\n",
    "plt.savefig('ventana movilsecuencial  6 de agosto 2022 UCSC.png',dpi=900, transparent = False)\n",
    "\n"
   ]
  },
  {
   "cell_type": "code",
   "execution_count": null,
   "metadata": {},
   "outputs": [],
   "source": []
  }
 ],
 "metadata": {
  "kernelspec": {
   "display_name": "Python 3",
   "language": "python",
   "name": "python3"
  },
  "language_info": {
   "codemirror_mode": {
    "name": "ipython",
    "version": 3
   },
   "file_extension": ".py",
   "mimetype": "text/x-python",
   "name": "python",
   "nbconvert_exporter": "python",
   "pygments_lexer": "ipython3",
   "version": "3.8.5"
  }
 },
 "nbformat": 4,
 "nbformat_minor": 4
}
